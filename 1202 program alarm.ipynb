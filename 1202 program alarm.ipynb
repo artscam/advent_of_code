{
 "cells": [
  {
   "cell_type": "code",
   "execution_count": 26,
   "metadata": {},
   "outputs": [
    {
     "name": "stdout",
     "output_type": "stream",
     "text": [
      "4847\n"
     ]
    }
   ],
   "source": [
    "program_alarm = open(\"day2_input.txt\",'r').read().split(',') \n",
    "data = [int(j) for j in program_alarm[0:-1]] #removing final element from list which is just a newline, while converting to int\n",
    "\n",
    "for x in range(0,100):\n",
    "    for y in range(0,100):\n",
    "        pa = data[:] # creates a copy of the list to execute code on\n",
    "        pa[1]=x\n",
    "        pa[2]=y\n",
    "        i=0 #placement index, increments by 4        \n",
    "    \n",
    "        while pa[i]!=99:\n",
    "            a=pa[i+1]\n",
    "            b=pa[i+2]\n",
    "            c=pa[i+3]\n",
    "    \n",
    "            if pa[i]==1:\n",
    "                pa[c]=pa[a]+pa[b]\n",
    "            elif pa[i]==2:\n",
    "                pa[c]=pa[a]*pa[b]\n",
    "        \n",
    "            i+=4\n",
    "        if pa[0]== 19690720:\n",
    "            ans1=pa[1]\n",
    "            ans2=pa[2]\n",
    "            out=pa[0]\n",
    "            \n",
    "print(100*ans1+ans2)"
   ]
  },
  {
   "cell_type": "code",
   "execution_count": null,
   "metadata": {},
   "outputs": [],
   "source": []
  },
  {
   "cell_type": "code",
   "execution_count": null,
   "metadata": {},
   "outputs": [],
   "source": []
  }
 ],
 "metadata": {
  "kernelspec": {
   "display_name": "Python 3",
   "language": "python",
   "name": "python3"
  },
  "language_info": {
   "codemirror_mode": {
    "name": "ipython",
    "version": 3
   },
   "file_extension": ".py",
   "mimetype": "text/x-python",
   "name": "python",
   "nbconvert_exporter": "python",
   "pygments_lexer": "ipython3",
   "version": "3.7.6"
  }
 },
 "nbformat": 4,
 "nbformat_minor": 4
}
