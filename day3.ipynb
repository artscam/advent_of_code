{
 "cells": [
  {
   "cell_type": "code",
   "execution_count": 1,
   "metadata": {},
   "outputs": [
    {
     "name": "stdout",
     "output_type": "stream",
     "text": [
      "2351\n"
     ]
    }
   ],
   "source": [
    "import numpy as np\n",
    "path1= open(\"day3_path1.txt\",'r').read().split(',') \n",
    "path2= open(\"day3_path2.txt\",'r').read().split(',') # separated data source into the 2 paths\n",
    "\n",
    "loc1x,loc1y = 0,0 # current location x and y coordinates\n",
    "points1=[[0,0]] # a matrix which stores all locations the 1st path has been, starting at [0,0]\n",
    "for i in range(0,len(path1)):\n",
    "    step=int(path1[i][1:])\n",
    "    dtn=path1[i][0] #direction\n",
    "    if dtn=='R':\n",
    "        loc1x += step\n",
    "    if dtn=='L':\n",
    "        loc1x -= step\n",
    "    if dtn=='U':\n",
    "        loc1y += step\n",
    "    if dtn=='D':\n",
    "        loc1y -= step\n",
    "    points1.append([loc1x,loc1y])\n",
    "\n",
    "#now creating second path, checking for intersections along the way\n",
    "insct_dist=[] # list of all intersection distances from origin\n",
    "intersect=0\n",
    "loc2x,loc2y = 0,0 # current location x and y coordinates\n",
    "points2=[[0,0]] # a matrix which stores all locations the 1st path has been, starting at [0,0]\n",
    "for i in range(0,len(path2)):\n",
    "    step=int(path2[i][1:])\n",
    "    dtn=path2[i][0] #direction\n",
    "    if dtn=='R':\n",
    "        loc2x += step\n",
    "    if dtn=='L':\n",
    "        loc2x -= step\n",
    "    if dtn=='U':\n",
    "        loc2y += step\n",
    "    if dtn=='D':\n",
    "        loc2y -= step\n",
    "    points2.append([loc2x,loc2y]) \n",
    "    #now checking for vertical and horizontal intersections\n",
    "   \n",
    "    #creating an index to switch direction of checker\n",
    "    if dtn =='R' or 'L':\n",
    "        z=0 # horizontal direction checks intersection vertically\n",
    "    if dtn =='U' or 'D':\n",
    "        z=1 # vertical direction checks intersection horizontally\n",
    "        \n",
    "    if dtn =='R' or 'U': # check positive directions\n",
    "        for j in range(0,len(points1)-1):\n",
    "            if points1[j][z]<points2[i][z] and points1[j][z]>points2[i-1][z]:\n",
    "                if points1[j][1-z] < points2[i][1-z] and points1[j+1][1-z] > points2[i][1-z]:\n",
    "                    intersect= abs(points2[i][1-z])+abs(points1[j][z]) \n",
    "                    insct_dist.append(intersect)\n",
    "        \n",
    "    if dtn =='L' or 'D': # check negative directions\n",
    "        for j in range(0,len(points1)-1):\n",
    "            if points1[j][z]>points2[i][z] and points1[j][z]<points2[i-1][z]:\n",
    "                if points1[j][1-z] < points2[i][1-z] and points1[j+1][1-z] > points2[i][1-z]:\n",
    "                    intersect= abs(points2[i][1-z])+abs(points1[j][z]) \n",
    "                    insct_dist.append(intersect)    \n",
    "    \n",
    "\n",
    "print(min(insct_dist))"
   ]
  },
  {
   "cell_type": "code",
   "execution_count": 49,
   "metadata": {},
   "outputs": [
    {
     "name": "stdout",
     "output_type": "stream",
     "text": [
      "[2380, 2351, 2755, 2605, 2720, 2981]\n"
     ]
    }
   ],
   "source": [
    "print(insct_dist)"
   ]
  },
  {
   "cell_type": "code",
   "execution_count": null,
   "metadata": {},
   "outputs": [],
   "source": [
    "import numpy as np\n",
    "path1= open(\"day3_path1.txt\",'r').read().split(',') \n",
    "path2= open(\"day3_path2.txt\",'r').read().split(',') # separated data source into the 2 paths\n",
    "\n",
    "loc1x,loc1y = 0,0 # current location x and y coordinates\n",
    "points1=[[0,0]] # a matrix which stores all locations the 1st path has been, starting at [0,0]\n",
    "for i in range(0,len(path1)):\n",
    "    step=int(path1[i][1:])\n",
    "    dtn=path1[i][0] #direction\n",
    "    if dtn=='R':\n",
    "        loc1x += step\n",
    "    if dtn=='L':\n",
    "        loc1x -= step\n",
    "    if dtn=='U':\n",
    "        loc1y += step\n",
    "    if dtn=='D':\n",
    "        loc1y -= step\n",
    "    points1.append([loc1x,loc1y])\n",
    "\n",
    "#now creating second path, checking for intersections along the way\n",
    "insct_dist=[] # list of all intersection distances from origin\n",
    "intersect=0\n",
    "loc2x,loc2y = 0,0 # current location x and y coordinates\n",
    "points2=[[0,0]] # a matrix which stores all locations the 1st path has been, starting at [0,0]\n",
    "for i in range(0,len(path2)):\n",
    "    step=int(path2[i][1:])\n",
    "    dtn=path2[i][0] #direction\n",
    "    if dtn=='R':\n",
    "        loc2x += step\n",
    "    if dtn=='L':\n",
    "        loc2x -= step\n",
    "    if dtn=='U':\n",
    "        loc2y += step\n",
    "    if dtn=='D':\n",
    "        loc2y -= step\n",
    "    points2.append([loc2x,loc2y]) \n",
    "    #now checking for vertical and horizontal intersections\n",
    "   \n",
    "    #creating an index to switch direction of checker\n",
    "    if dtn =='R' or 'L':\n",
    "        z=0 # horizontal direction checks intersection vertically\n",
    "    if dtn =='U' or 'D':\n",
    "        z=1 # vertical direction checks intersection horizontally\n",
    "        \n",
    "    if dtn =='R' or 'U': # check positive directions\n",
    "        for j in range(0,len(points1)-1):\n",
    "            if points1[j][z]<points2[i][z] and points1[j][z]>points2[i-1][z]:\n",
    "                if points1[j][1-z] < points2[i][1-z] and points1[j+1][1-z] > points2[i][1-z]:\n",
    "                    intersect= abs(points2[i][1-z])+abs(points1[j][z]) \n",
    "                    insct_dist.append(intersect)\n",
    "        \n",
    "    if dtn =='L' or 'D': # check negative directions\n",
    "        for j in range(0,len(points1)-1):\n",
    "            if points1[j][z]>points2[i][z] and points1[j][z]<points2[i-1][z]:\n",
    "                if points1[j][1-z] < points2[i][1-z] and points1[j+1][1-z] > points2[i][1-z]:\n",
    "                    intersect= abs(points2[i][1-z])+abs(points1[j][z]) \n",
    "                    insct_dist.append(intersect)    \n",
    "    \n",
    "\n",
    "print(min(insct_dist))"
   ]
  },
  {
   "cell_type": "code",
   "execution_count": null,
   "metadata": {},
   "outputs": [],
   "source": []
  },
  {
   "cell_type": "code",
   "execution_count": null,
   "metadata": {},
   "outputs": [],
   "source": []
  },
  {
   "cell_type": "code",
   "execution_count": null,
   "metadata": {},
   "outputs": [],
   "source": []
  },
  {
   "cell_type": "code",
   "execution_count": null,
   "metadata": {},
   "outputs": [],
   "source": []
  }
 ],
 "metadata": {
  "kernelspec": {
   "display_name": "Python 3",
   "language": "python",
   "name": "python3"
  },
  "language_info": {
   "codemirror_mode": {
    "name": "ipython",
    "version": 3
   },
   "file_extension": ".py",
   "mimetype": "text/x-python",
   "name": "python",
   "nbconvert_exporter": "python",
   "pygments_lexer": "ipython3",
   "version": "3.7.6"
  }
 },
 "nbformat": 4,
 "nbformat_minor": 4
}
