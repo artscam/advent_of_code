{
 "cells": [
  {
   "cell_type": "code",
   "execution_count": 64,
   "metadata": {},
   "outputs": [
    {
     "data": {
      "text/plain": [
       "4943578"
      ]
     },
     "execution_count": 64,
     "metadata": {},
     "output_type": "execute_result"
    }
   ],
   "source": [
    "rockets = open(\"rockets.txt\",'r').read().splitlines()\n",
    "\n",
    "up=len(rockets)-1 #last entry is blank\n",
    "rocket_fuel=[] # empty list to append the calculations to\n",
    "for x in range(0,up):\n",
    "    \n",
    "    y=int(mydata[x])//3 -2 # initial fuel for rocket, converted from str to int\n",
    "    z=y # initialising fuel for the fuel\n",
    "    while z>6: # if z <= 6, the resulting fuel <= 0\n",
    "        z=z//3 -2 #fuel needed to carry extra fuel\n",
    "        if z > 0:\n",
    "            y=y+z\n",
    "            \n",
    "    rocket_fuel.append(y)\n",
    "total_fuel=sum(rocket_fuel) \n",
    "total_fuel"
   ]
  },
  {
   "cell_type": "code",
   "execution_count": null,
   "metadata": {
    "scrolled": true
   },
   "outputs": [],
   "source": []
  },
  {
   "cell_type": "code",
   "execution_count": 57,
   "metadata": {},
   "outputs": [],
   "source": [
    "       \n"
   ]
  },
  {
   "cell_type": "code",
   "execution_count": null,
   "metadata": {},
   "outputs": [],
   "source": []
  },
  {
   "cell_type": "code",
   "execution_count": null,
   "metadata": {},
   "outputs": [],
   "source": []
  },
  {
   "cell_type": "code",
   "execution_count": null,
   "metadata": {},
   "outputs": [],
   "source": []
  },
  {
   "cell_type": "code",
   "execution_count": null,
   "metadata": {},
   "outputs": [],
   "source": []
  }
 ],
 "metadata": {
  "kernelspec": {
   "display_name": "Python 3",
   "language": "python",
   "name": "python3"
  },
  "language_info": {
   "codemirror_mode": {
    "name": "ipython",
    "version": 3
   },
   "file_extension": ".py",
   "mimetype": "text/x-python",
   "name": "python",
   "nbconvert_exporter": "python",
   "pygments_lexer": "ipython3",
   "version": "3.7.6"
  }
 },
 "nbformat": 4,
 "nbformat_minor": 4
}
